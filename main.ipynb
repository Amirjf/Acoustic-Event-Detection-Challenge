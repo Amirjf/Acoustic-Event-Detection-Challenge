{
 "cells": [
  {
   "cell_type": "code",
   "execution_count": 56,
   "metadata": {},
   "outputs": [],
   "source": [
    "from scipy.io import wavfile\n",
    "import pandas as pd\n",
    "import numpy as np\n",
    "import matplotlib.pyplot as plt\n",
    "from scipy import signal\n",
    "import random \n",
    "import os"
   ]
  },
  {
   "cell_type": "code",
   "execution_count": 66,
   "metadata": {},
   "outputs": [
    {
     "name": "stdout",
     "output_type": "stream",
     "text": [
      "{'Animals': ['2-118072-A-0.wav', '4-133047-A-5.wav'], 'Natural soundscapes & water sounds': ['1-54958-A-10.wav', '5-200461-A-11.wav'], 'Human sounds': ['3-142604-A-24.wav', '2-209472-A-25.wav'], 'Interior/domestic sounds': ['1-94231-A-32.wav', '1-79236-A-36.wav'], 'Exterior/urban noises': ['2-160888-A-47.wav', '5-180156-B-43.wav']}\n"
     ]
    }
   ],
   "source": [
    "df = pd.read_csv('ESC-50-master/meta/esc50.csv')\n",
    "# Define categories and their sounds\n",
    "categories = {\n",
    "    'Animals': ['dog', 'cat'],\n",
    "    'Natural soundscapes & water sounds': ['rain', 'sea_waves'],\n",
    "    'Human sounds': ['coughing', 'footsteps', ],\n",
    "    'Interior/domestic sounds': ['keyboard_typing', 'vacuum_cleaner',],\n",
    "    'Exterior/urban noises': ['airplane', 'car_horn']\n",
    "}\n",
    "# Initialize dictionary to store sampled filenames for each category\n",
    "sampled_sounds = {} \n",
    " \n",
    "# For each category, sample one sound from each subcategory\n",
    "for category, sounds in categories.items():\n",
    "    # Get all rows matching the sounds in this category\n",
    "    category_df = df[df['category'].isin(sounds)]\n",
    "    # Sample one from each sound type \n",
    "    samples = pd.concat([\n",
    "        category_df[category_df['category'] == sound].sample(n=1)\n",
    "        for sound in sounds\n",
    "    ])\n",
    "    # Store filenames in dictionary\n",
    "    sampled_sounds[category] = samples['filename'].tolist()\n",
    "    \n",
    "print(sampled_sounds)\n",
    "\n",
    "\n"
   ]
  },
  {
   "cell_type": "code",
   "execution_count": 70,
   "metadata": {},
   "outputs": [],
   "source": [
    "wave_list_data = [] \n",
    "base_path = 'ESC-50-master/audio/'\n",
    "for category in sampled_sounds:\n",
    "    for filename in sampled_sounds[category]:\n",
    "        complete_path = os.path.join(base_path, filename)\n",
    "        sample_rate, sound_data = wavfile.read(complete_path)\n",
    "        wave_list_data.append(sound_data)"
   ]
  },
  {
   "cell_type": "code",
   "execution_count": null,
   "metadata": {},
   "outputs": [],
   "source": []
  }
 ],
 "metadata": {
  "kernelspec": {
   "display_name": "Python 3 (ipykernel)",
   "language": "python",
   "name": "python3"
  },
  "language_info": {
   "codemirror_mode": {
    "name": "ipython",
    "version": 3
   },
   "file_extension": ".py",
   "mimetype": "text/x-python",
   "name": "python",
   "nbconvert_exporter": "python",
   "pygments_lexer": "ipython3",
   "version": "3.12.2"
  }
 },
 "nbformat": 4,
 "nbformat_minor": 4
}
