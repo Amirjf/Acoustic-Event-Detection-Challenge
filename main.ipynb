{
 "cells": [
  {
   "cell_type": "code",
   "execution_count": 24,
   "metadata": {},
   "outputs": [],
   "source": [
    "from data_utils import load_metadata, sample_sounds_by_category, load_wave_data, load_all_sounds\n",
    "from plot_utils import visualize_category_sounds,create_histogram_subplot\n",
    "from feature_utils import compute_features_for_wave_list, compute_combined_features_for_wave_list, save_features_to_npz, save_multiple_features_to_npz\n",
    "import numpy as np\n",
    "from sklearn.model_selection import train_test_split"
   ]
  },
  {
   "cell_type": "code",
   "execution_count": 25,
   "metadata": {},
   "outputs": [
    {
     "name": "stdout",
     "output_type": "stream",
     "text": [
      "               filename  fold  target        category  esc10  src_file take\n",
      "0      1-100032-A-0.wav     1       0             dog   True    100032    A\n",
      "1     1-100038-A-14.wav     1      14  chirping_birds  False    100038    A\n",
      "2     1-100210-A-36.wav     1      36  vacuum_cleaner  False    100210    A\n",
      "3     1-100210-B-36.wav     1      36  vacuum_cleaner  False    100210    B\n",
      "4     1-101296-A-19.wav     1      19    thunderstorm  False    101296    A\n",
      "...                 ...   ...     ...             ...    ...       ...  ...\n",
      "1995   5-263831-B-6.wav     5       6             hen  False    263831    B\n",
      "1996  5-263902-A-36.wav     5      36  vacuum_cleaner  False    263902    A\n",
      "1997   5-51149-A-25.wav     5      25       footsteps  False     51149    A\n",
      "1998    5-61635-A-8.wav     5       8           sheep  False     61635    A\n",
      "1999     5-9032-A-0.wav     5       0             dog   True      9032    A\n",
      "\n",
      "[2000 rows x 7 columns]\n"
     ]
    }
   ],
   "source": [
    "# 1) Specify paths\n",
    "csv_file_path = \"ESC-50-master/meta/esc50.csv\"\n",
    "audio_files_path = \"ESC-50-master/audio/\"\n",
    "\n",
    "# 2) Load metadata\n",
    "df = load_metadata(csv_file_path)\n",
    "\n",
    "print(df)\n",
    "\n",
    "# 3) Define categories\n",
    "categories = {\n",
    "    'Animals': ['dog', 'cat'],\n",
    "    'Natural soundscapes & water sounds': ['rain', 'sea_waves'],\n",
    "    'Human sounds': ['coughing', 'footsteps'],\n",
    "    'Interior/domestic sounds': ['keyboard_typing', 'vacuum_cleaner'],\n",
    "    'Exterior/urban noises': ['airplane', 'car_horn']\n",
    "}\n",
    "\n",
    "# 4) Sample sounds\n",
    "sampled_sounds = sample_sounds_by_category(df, categories)\n",
    "\n",
    "# 5) Load wave data\n",
    "# wave_list_data = load_wave_data(sampled_sounds, audio_files_path) #load_sample\n",
    "wave_list_data = load_all_sounds(df, categories, audio_files_path)\n",
    "\n",
    "# 6) Visualize\n",
    "# visualize_category_sounds(wave_list_data)"
   ]
  },
  {
   "cell_type": "code",
   "execution_count": 26,
   "metadata": {},
   "outputs": [
    {
     "data": {
      "text/plain": [
       "400"
      ]
     },
     "execution_count": 26,
     "metadata": {},
     "output_type": "execute_result"
    }
   ],
   "source": [
    "len(wave_list_data)"
   ]
  },
  {
   "cell_type": "code",
   "execution_count": 27,
   "metadata": {},
   "outputs": [
    {
     "name": "stdout",
     "output_type": "stream",
     "text": [
      "Sample 1:\n",
      "  Category: Animals\n",
      "  Filename: 1-100032-A-0.wav\n",
      "  Sample Rate: 44100\n",
      "  Sound Data Shape: (220500,)\n",
      "------------------------------\n",
      "Sample 2:\n",
      "  Category: Animals\n",
      "  Filename: 1-110389-A-0.wav\n",
      "  Sample Rate: 44100\n",
      "  Sound Data Shape: (220500,)\n",
      "------------------------------\n",
      "Sample 3:\n",
      "  Category: Animals\n",
      "  Filename: 1-30226-A-0.wav\n",
      "  Sample Rate: 44100\n",
      "  Sound Data Shape: (220500,)\n",
      "------------------------------\n"
     ]
    }
   ],
   "source": [
    "for i in range(3):\n",
    "    print(f\"Sample {i+1}:\")\n",
    "    print(\"  Category:\", wave_list_data[i][0])\n",
    "    print(\"  Filename:\", wave_list_data[i][1])\n",
    "    print(\"  Sample Rate:\", wave_list_data[i][2])\n",
    "    print(\"  Sound Data Shape:\", wave_list_data[i][3].shape)\n",
    "    print(\"-\" * 30)"
   ]
  },
  {
   "cell_type": "code",
   "execution_count": 28,
   "metadata": {},
   "outputs": [
    {
     "name": "stdout",
     "output_type": "stream",
     "text": [
      "Features saved to features/extracted_features_test.npz\n"
     ]
    }
   ],
   "source": [
    "# 7) Extract features\n",
    "keys_list, combined_features = compute_combined_features_for_wave_list(wave_list_data)\n",
    "# 8) Save features\n",
    "save_features_to_npz(keys_list, combined_features, out_file=\"features/extracted_features_test.npz\")"
   ]
  },
  {
   "cell_type": "code",
   "execution_count": 29,
   "metadata": {},
   "outputs": [],
   "source": [
    "loaded_data_1 = np.load(\"features/extracted_features_test.npz\")"
   ]
  },
  {
   "cell_type": "code",
   "execution_count": 30,
   "metadata": {},
   "outputs": [
    {
     "name": "stdout",
     "output_type": "stream",
     "text": [
      "Keys shape: (400,)\n",
      "Features shape: (400, 109)\n"
     ]
    }
   ],
   "source": [
    "print(\"Keys shape:\", loaded_data_1['keys'].shape)\n",
    "print(\"Features shape:\", loaded_data_1['features'].shape)"
   ]
  },
  {
   "cell_type": "code",
   "execution_count": 31,
   "metadata": {},
   "outputs": [
    {
     "name": "stdout",
     "output_type": "stream",
     "text": [
      "Multiple features saved to features/extracted_features_multiple_test.npz\n"
     ]
    }
   ],
   "source": [
    "keys_list, mfcc_list, hist_list, spectral_list = compute_features_for_wave_list(wave_list_data)\n",
    "\n",
    "save_multiple_features_to_npz(keys_list, mfcc_list, hist_list, spectral_list, out_file=\"features/extracted_features_multiple_test.npz\")\n"
   ]
  },
  {
   "cell_type": "code",
   "execution_count": 32,
   "metadata": {},
   "outputs": [
    {
     "name": "stdout",
     "output_type": "stream",
     "text": [
      "Stored arrays: ['keys', 'mfcc', 'hist', 'spectral']\n",
      "Keys shape: (400,)\n",
      "MFCC shape: (400, 26)\n",
      "Histogram shape: (400, 80)\n",
      "Spectral shape: (400, 3)\n",
      "First MFCC feature vector: [-5.8173993e+02  8.2071218e+00 -6.6588025e+00 -4.2909064e+00\n",
      " -3.0344779e+00  2.5927922e-01 -1.9639465e+00 -2.7157682e-01\n",
      "  5.1828414e-01  3.4188423e-01  9.0610188e-01 -9.5245531e-03\n",
      " -1.9054951e-01  0.0000000e+00 -1.7701611e-08  0.0000000e+00\n",
      " -8.8508054e-09  0.0000000e+00  0.0000000e+00  4.4254027e-09\n",
      "  6.9146922e-10 -2.2127014e-09  5.5317534e-10  0.0000000e+00\n",
      " -1.1063507e-09  0.0000000e+00]\n",
      "First histogram feature vector: [9.90483614e-01 5.11165893e-03 2.35643852e-03 7.97563805e-04\n",
      " 7.25058005e-04 1.99390951e-04 1.81264501e-04 9.06322506e-05\n",
      " 3.62529002e-05 1.81264501e-05 9.92241879e-01 4.27784223e-03\n",
      " 1.45011601e-03 8.15690255e-04 3.44402552e-04 3.08149652e-04\n",
      " 2.35643852e-04 1.45011601e-04 1.63138051e-04 1.81264501e-05\n",
      " 9.93855133e-01 4.38660093e-03 1.12383991e-03 3.26276102e-04\n",
      " 1.45011601e-04 5.43793503e-05 3.62529002e-05 5.43793503e-05\n",
      " 0.00000000e+00 1.81264501e-05 9.86042633e-01 8.70069606e-03\n",
      " 3.20838167e-03 1.14196636e-03 5.25667053e-04 1.08758701e-04\n",
      " 1.63138051e-04 5.43793503e-05 3.62529002e-05 1.81264501e-05\n",
      " 9.86658933e-01 7.30495940e-03 3.33526682e-03 1.30510441e-03\n",
      " 5.98172854e-04 3.98781903e-04 1.99390951e-04 7.25058005e-05\n",
      " 5.43793503e-05 7.25058005e-05 9.83468677e-01 7.10556845e-03\n",
      " 4.64037123e-03 2.88210557e-03 1.12383991e-03 5.25667053e-04\n",
      " 1.63138051e-04 5.43793503e-05 0.00000000e+00 3.62529002e-05\n",
      " 9.98984919e-01 3.08149652e-04 1.63138051e-04 1.63138051e-04\n",
      " 1.45011601e-04 5.43793503e-05 5.43793503e-05 3.62529002e-05\n",
      " 3.62529002e-05 5.43793503e-05 9.92499865e-01 3.81301822e-03\n",
      " 1.60074821e-03 8.09367075e-04 5.03606180e-04 3.05760895e-04\n",
      " 1.97845285e-04 1.25901545e-04 3.59718700e-05 1.07915610e-04]\n",
      "First spectral feature vector: [2.73927703e+02 1.31290743e+01 7.32875036e-03]\n"
     ]
    }
   ],
   "source": [
    "loaded_data = np.load(\"features/extracted_features_multiple_test.npz\")\n",
    "print(\"Stored arrays:\", loaded_data.files)\n",
    "\n",
    "print(\"Keys shape:\", loaded_data['keys'].shape)\n",
    "print(\"MFCC shape:\", loaded_data['mfcc'].shape)\n",
    "print(\"Histogram shape:\", loaded_data['hist'].shape)\n",
    "print(\"Spectral shape:\", loaded_data['spectral'].shape)\n",
    "\n",
    "print(\"First MFCC feature vector:\", loaded_data['mfcc'][0])\n",
    "print(\"First histogram feature vector:\", loaded_data['hist'][0])\n",
    "print(\"First spectral feature vector:\", loaded_data['spectral'][0])"
   ]
  },
  {
   "cell_type": "code",
   "execution_count": 33,
   "metadata": {},
   "outputs": [
    {
     "name": "stdout",
     "output_type": "stream",
     "text": [
      "Unique class labels: {0, 32, 36, 5, 10, 11, 43, 47, 24, 25}\n"
     ]
    }
   ],
   "source": [
    "unique_keys = set(keys_list)\n",
    "print(\"Unique class labels:\", unique_keys)\n"
   ]
  },
  {
   "cell_type": "code",
   "execution_count": 34,
   "metadata": {},
   "outputs": [],
   "source": [
    "# Extract features and labels\n",
    "keys_list = loaded_data['keys']\n",
    "mfcc_features = loaded_data['mfcc']\n",
    "hist_features = loaded_data['hist']\n",
    "spectral_features = loaded_data['spectral']"
   ]
  },
  {
   "cell_type": "code",
   "execution_count": 35,
   "metadata": {},
   "outputs": [],
   "source": [
    "combined_features = np.hstack([mfcc_features, hist_features, spectral_features])"
   ]
  },
  {
   "cell_type": "code",
   "execution_count": 36,
   "metadata": {},
   "outputs": [],
   "source": [
    "selected_features = mfcc_features"
   ]
  },
  {
   "cell_type": "code",
   "execution_count": 37,
   "metadata": {},
   "outputs": [],
   "source": [
    "selected_features2= np.hstack([mfcc_features,spectral_features])"
   ]
  },
  {
   "cell_type": "code",
   "execution_count": 38,
   "metadata": {},
   "outputs": [
    {
     "name": "stdout",
     "output_type": "stream",
     "text": [
      "Training set size: (320, 26)\n",
      "Test set size: (80, 26)\n"
     ]
    }
   ],
   "source": [
    "X = selected_features\n",
    "y = keys_list\n",
    "\n",
    "X_train, X_test, y_train, y_test = train_test_split(X, y, test_size=0.2, random_state=42) # Split into training and testing sets\n",
    "\n",
    "print(\"Training set size:\", X_train.shape)\n",
    "print(\"Test set size:\", X_test.shape)"
   ]
  },
  {
   "cell_type": "code",
   "execution_count": 39,
   "metadata": {},
   "outputs": [
    {
     "name": "stdout",
     "output_type": "stream",
     "text": [
      "Classification Report:\n",
      "              precision    recall  f1-score   support\n",
      "\n",
      "           0       0.78      0.70      0.74        10\n",
      "           5       0.00      0.00      0.00        12\n",
      "          10       0.83      0.56      0.67         9\n",
      "          11       0.60      0.75      0.67         8\n",
      "          24       0.10      0.40      0.16         5\n",
      "          25       0.33      0.71      0.45         7\n",
      "          32       0.57      0.50      0.53         8\n",
      "          36       0.33      0.67      0.44         3\n",
      "          43       0.00      0.00      0.00        12\n",
      "          47       0.67      0.67      0.67         6\n",
      "\n",
      "    accuracy                           0.44        80\n",
      "   macro avg       0.42      0.50      0.43        80\n",
      "weighted avg       0.41      0.44      0.40        80\n",
      "\n"
     ]
    },
    {
     "name": "stderr",
     "output_type": "stream",
     "text": [
      "/opt/anaconda3/lib/python3.12/site-packages/sklearn/metrics/_classification.py:1509: UndefinedMetricWarning: Precision is ill-defined and being set to 0.0 in labels with no predicted samples. Use `zero_division` parameter to control this behavior.\n",
      "  _warn_prf(average, modifier, f\"{metric.capitalize()} is\", len(result))\n",
      "/opt/anaconda3/lib/python3.12/site-packages/sklearn/metrics/_classification.py:1509: UndefinedMetricWarning: Precision is ill-defined and being set to 0.0 in labels with no predicted samples. Use `zero_division` parameter to control this behavior.\n",
      "  _warn_prf(average, modifier, f\"{metric.capitalize()} is\", len(result))\n",
      "/opt/anaconda3/lib/python3.12/site-packages/sklearn/metrics/_classification.py:1509: UndefinedMetricWarning: Precision is ill-defined and being set to 0.0 in labels with no predicted samples. Use `zero_division` parameter to control this behavior.\n",
      "  _warn_prf(average, modifier, f\"{metric.capitalize()} is\", len(result))\n"
     ]
    },
    {
     "data": {
      "image/png": "[encoded data removed]",
      "text/plain": [
       "<Figure size 800x600 with 2 Axes>"
      ]
     },
     "metadata": {},
     "output_type": "display_data"
    }
   ],
   "source": [
    "from sklearn.svm import SVC\n",
    "from sklearn.metrics import classification_report, confusion_matrix\n",
    "import matplotlib.pyplot as plt\n",
    "import seaborn as sns\n",
    "\n",
    "# Initialize the SVM classifier\n",
    "svm = SVC(kernel='rbf', C=1.0, gamma='scale', random_state=42)\n",
    "\n",
    "# Train the SVM classifier\n",
    "svm.fit(X_train, y_train)\n",
    "\n",
    "# Make predictions on the test set\n",
    "y_pred = svm.predict(X_test)\n",
    "\n",
    "# Evaluate performance\n",
    "print(\"Classification Report:\")\n",
    "print(classification_report(y_test, y_pred))\n",
    "\n",
    "# Display confusion matrix\n",
    "cm = confusion_matrix(y_test, y_pred)\n",
    "plt.figure(figsize=(8, 6))\n",
    "sns.heatmap(cm, annot=True, fmt='d', cmap='Blues', xticklabels=set(y_train), yticklabels=set(y_train))\n",
    "plt.xlabel('Predicted')\n",
    "plt.ylabel('Actual')\n",
    "plt.title('Confusion Matrix')\n",
    "plt.show()"
   ]
  },
  {
   "cell_type": "code",
   "execution_count": 40,
   "metadata": {},
   "outputs": [
    {
     "name": "stdout",
     "output_type": "stream",
     "text": [
      "Fitting 5 folds for each of 16 candidates, totalling 80 fits\n",
      "[CV] END ......................C=0.1, gamma=0.01, kernel=rbf; total time=   0.0s\n",
      "[CV] END ......................C=0.1, gamma=0.01, kernel=rbf; total time=   0.0s\n",
      "[CV] END ......................C=0.1, gamma=0.01, kernel=rbf; total time=   0.0s\n",
      "[CV] END ......................C=0.1, gamma=0.01, kernel=rbf; total time=   0.0s\n",
      "[CV] END ......................C=0.1, gamma=0.01, kernel=rbf; total time=   0.0s\n",
      "[CV] END .......................C=0.1, gamma=0.1, kernel=rbf; total time=   0.0s\n",
      "[CV] END .......................C=0.1, gamma=0.1, kernel=rbf; total time=   0.0s\n",
      "[CV] END .......................C=0.1, gamma=0.1, kernel=rbf; total time=   0.0s\n",
      "[CV] END .......................C=0.1, gamma=0.1, kernel=rbf; total time=   0.0s\n",
      "[CV] END .......................C=0.1, gamma=0.1, kernel=rbf; total time=   0.0s\n",
      "[CV] END .........................C=0.1, gamma=1, kernel=rbf; total time=   0.0s\n",
      "[CV] END .........................C=0.1, gamma=1, kernel=rbf; total time=   0.0s\n",
      "[CV] END .........................C=0.1, gamma=1, kernel=rbf; total time=   0.0s\n",
      "[CV] END .........................C=0.1, gamma=1, kernel=rbf; total time=   0.0s\n",
      "[CV] END .........................C=0.1, gamma=1, kernel=rbf; total time=   0.0s\n",
      "[CV] END .....................C=0.1, gamma=scale, kernel=rbf; total time=   0.0s\n",
      "[CV] END .....................C=0.1, gamma=scale, kernel=rbf; total time=   0.0s\n",
      "[CV] END .....................C=0.1, gamma=scale, kernel=rbf; total time=   0.0s\n",
      "[CV] END .....................C=0.1, gamma=scale, kernel=rbf; total time=   0.0s\n",
      "[CV] END .....................C=0.1, gamma=scale, kernel=rbf; total time=   0.0s\n",
      "[CV] END ........................C=1, gamma=0.01, kernel=rbf; total time=   0.0s\n",
      "[CV] END ........................C=1, gamma=0.01, kernel=rbf; total time=   0.0s\n",
      "[CV] END ........................C=1, gamma=0.01, kernel=rbf; total time=   0.0s\n",
      "[CV] END ........................C=1, gamma=0.01, kernel=rbf; total time=   0.0s\n",
      "[CV] END ........................C=1, gamma=0.01, kernel=rbf; total time=   0.0s\n",
      "[CV] END .........................C=1, gamma=0.1, kernel=rbf; total time=   0.0s\n",
      "[CV] END .........................C=1, gamma=0.1, kernel=rbf; total time=   0.0s\n",
      "[CV] END .........................C=1, gamma=0.1, kernel=rbf; total time=   0.0s\n",
      "[CV] END .........................C=1, gamma=0.1, kernel=rbf; total time=   0.0s\n",
      "[CV] END .........................C=1, gamma=0.1, kernel=rbf; total time=   0.0s\n",
      "[CV] END ...........................C=1, gamma=1, kernel=rbf; total time=   0.0s\n",
      "[CV] END ...........................C=1, gamma=1, kernel=rbf; total time=   0.0s\n",
      "[CV] END ...........................C=1, gamma=1, kernel=rbf; total time=   0.0s\n",
      "[CV] END ...........................C=1, gamma=1, kernel=rbf; total time=   0.0s\n",
      "[CV] END ...........................C=1, gamma=1, kernel=rbf; total time=   0.0s\n",
      "[CV] END .......................C=1, gamma=scale, kernel=rbf; total time=   0.0s\n",
      "[CV] END .......................C=1, gamma=scale, kernel=rbf; total time=   0.0s\n",
      "[CV] END .......................C=1, gamma=scale, kernel=rbf; total time=   0.0s\n",
      "[CV] END .......................C=1, gamma=scale, kernel=rbf; total time=   0.0s\n",
      "[CV] END .......................C=1, gamma=scale, kernel=rbf; total time=   0.0s\n",
      "[CV] END .......................C=10, gamma=0.01, kernel=rbf; total time=   0.0s\n",
      "[CV] END .......................C=10, gamma=0.01, kernel=rbf; total time=   0.0s\n",
      "[CV] END .......................C=10, gamma=0.01, kernel=rbf; total time=   0.0s\n",
      "[CV] END .......................C=10, gamma=0.01, kernel=rbf; total time=   0.0s\n",
      "[CV] END .......................C=10, gamma=0.01, kernel=rbf; total time=   0.0s\n",
      "[CV] END ........................C=10, gamma=0.1, kernel=rbf; total time=   0.0s\n",
      "[CV] END ........................C=10, gamma=0.1, kernel=rbf; total time=   0.0s\n",
      "[CV] END ........................C=10, gamma=0.1, kernel=rbf; total time=   0.0s\n",
      "[CV] END ........................C=10, gamma=0.1, kernel=rbf; total time=   0.0s\n",
      "[CV] END ........................C=10, gamma=0.1, kernel=rbf; total time=   0.0s\n",
      "[CV] END ..........................C=10, gamma=1, kernel=rbf; total time=   0.0s\n",
      "[CV] END ..........................C=10, gamma=1, kernel=rbf; total time=   0.0s\n",
      "[CV] END ..........................C=10, gamma=1, kernel=rbf; total time=   0.0s\n",
      "[CV] END ..........................C=10, gamma=1, kernel=rbf; total time=   0.0s\n",
      "[CV] END ..........................C=10, gamma=1, kernel=rbf; total time=   0.0s\n",
      "[CV] END ......................C=10, gamma=scale, kernel=rbf; total time=   0.0s\n",
      "[CV] END ......................C=10, gamma=scale, kernel=rbf; total time=   0.0s\n",
      "[CV] END ......................C=10, gamma=scale, kernel=rbf; total time=   0.0s\n",
      "[CV] END ......................C=10, gamma=scale, kernel=rbf; total time=   0.0s\n",
      "[CV] END ......................C=10, gamma=scale, kernel=rbf; total time=   0.0s\n",
      "[CV] END ......................C=100, gamma=0.01, kernel=rbf; total time=   0.0s\n",
      "[CV] END ......................C=100, gamma=0.01, kernel=rbf; total time=   0.0s\n",
      "[CV] END ......................C=100, gamma=0.01, kernel=rbf; total time=   0.0s\n",
      "[CV] END ......................C=100, gamma=0.01, kernel=rbf; total time=   0.0s\n",
      "[CV] END ......................C=100, gamma=0.01, kernel=rbf; total time=   0.0s\n",
      "[CV] END .......................C=100, gamma=0.1, kernel=rbf; total time=   0.0s\n",
      "[CV] END .......................C=100, gamma=0.1, kernel=rbf; total time=   0.0s\n",
      "[CV] END .......................C=100, gamma=0.1, kernel=rbf; total time=   0.0s\n",
      "[CV] END .......................C=100, gamma=0.1, kernel=rbf; total time=   0.0s\n",
      "[CV] END .......................C=100, gamma=0.1, kernel=rbf; total time=   0.0s\n",
      "[CV] END .........................C=100, gamma=1, kernel=rbf; total time=   0.0s\n",
      "[CV] END .........................C=100, gamma=1, kernel=rbf; total time=   0.0s\n",
      "[CV] END .........................C=100, gamma=1, kernel=rbf; total time=   0.0s\n",
      "[CV] END .........................C=100, gamma=1, kernel=rbf; total time=   0.0s\n",
      "[CV] END .........................C=100, gamma=1, kernel=rbf; total time=   0.0s\n",
      "[CV] END .....................C=100, gamma=scale, kernel=rbf; total time=   0.0s\n",
      "[CV] END .....................C=100, gamma=scale, kernel=rbf; total time=   0.0s\n",
      "[CV] END .....................C=100, gamma=scale, kernel=rbf; total time=   0.0s\n",
      "[CV] END .....................C=100, gamma=scale, kernel=rbf; total time=   0.0s\n",
      "[CV] END .....................C=100, gamma=scale, kernel=rbf; total time=   0.0s\n",
      "Best parameters: {'C': 100, 'gamma': 'scale', 'kernel': 'rbf'}\n"
     ]
    }
   ],
   "source": [
    "from sklearn.model_selection import GridSearchCV\n",
    "\n",
    "param_grid = {\n",
    "    'C': [0.1, 1, 10, 100],\n",
    "    'gamma': [0.01, 0.1, 1, 'scale'],\n",
    "    'kernel': ['rbf']\n",
    "}\n",
    "\n",
    "grid_search = GridSearchCV(SVC(), param_grid, cv=5, verbose=2)\n",
    "grid_search.fit(X_train, y_train)\n",
    "print(\"Best parameters:\", grid_search.best_params_)"
   ]
  },
  {
   "cell_type": "code",
   "execution_count": 41,
   "metadata": {},
   "outputs": [
    {
     "name": "stdout",
     "output_type": "stream",
     "text": [
      "Classification Report:\n",
      "              precision    recall  f1-score   support\n",
      "\n",
      "           0       0.80      0.80      0.80        10\n",
      "           5       0.60      0.50      0.55        12\n",
      "          10       0.62      0.56      0.59         9\n",
      "          11       1.00      0.75      0.86         8\n",
      "          24       0.22      0.40      0.29         5\n",
      "          25       0.25      0.29      0.27         7\n",
      "          32       0.64      0.88      0.74         8\n",
      "          36       0.43      1.00      0.60         3\n",
      "          43       0.50      0.17      0.25        12\n",
      "          47       0.57      0.67      0.62         6\n",
      "\n",
      "    accuracy                           0.56        80\n",
      "   macro avg       0.56      0.60      0.55        80\n",
      "weighted avg       0.59      0.56      0.55        80\n",
      "\n"
     ]
    },
    {
     "data": {
      "image/png": "[encoded data removed]",
      "text/plain": [
       "<Figure size 800x600 with 2 Axes>"
      ]
     },
     "metadata": {},
     "output_type": "display_data"
    }
   ],
   "source": [
    "svm = SVC(kernel='rbf', C=100, gamma='scale', random_state=42)\n",
    "\n",
    "# Train the SVM classifier\n",
    "svm.fit(X_train, y_train)\n",
    "\n",
    "# Make predictions on the test set\n",
    "y_pred = svm.predict(X_test)\n",
    "\n",
    "# Evaluate performance\n",
    "print(\"Classification Report:\")\n",
    "print(classification_report(y_test, y_pred))\n",
    "\n",
    "# Display confusion matrix\n",
    "cm = confusion_matrix(y_test, y_pred)\n",
    "plt.figure(figsize=(8, 6))\n",
    "sns.heatmap(cm, annot=True, fmt='d', cmap='Blues', xticklabels=set(y_train), yticklabels=set(y_train))\n",
    "plt.xlabel('Predicted')\n",
    "plt.ylabel('Actual')\n",
    "plt.title('Confusion Matrix')\n",
    "plt.show()"
   ]
  },
  {
   "cell_type": "code",
   "execution_count": 42,
   "metadata": {},
   "outputs": [
    {
     "name": "stdout",
     "output_type": "stream",
     "text": [
      "Explained variance ratio: [8.5233170e-01 8.6355478e-02 2.3193656e-02 1.5195207e-02 9.9598905e-03\n",
      " 3.8088369e-03 3.4105799e-03 2.1263389e-03 1.0980036e-03 7.8929716e-04]\n",
      "Reduced feature shape: (320, 10)\n"
     ]
    }
   ],
   "source": [
    "from sklearn.decomposition import PCA\n",
    "\n",
    "# Reduce features to 4 dimensions using PCA\n",
    "pca = PCA(n_components=10)\n",
    "X_train_pca = pca.fit_transform(X_train)\n",
    "X_test_pca = pca.transform(X_test)\n",
    "\n",
    "print(\"Explained variance ratio:\", pca.explained_variance_ratio_)\n",
    "print(\"Reduced feature shape:\", X_train_pca.shape)"
   ]
  },
  {
   "cell_type": "code",
   "execution_count": 43,
   "metadata": {},
   "outputs": [
    {
     "name": "stdout",
     "output_type": "stream",
     "text": [
      "Classification Report:\n",
      "              precision    recall  f1-score   support\n",
      "\n",
      "           0       0.70      0.70      0.70        10\n",
      "           5       0.67      0.67      0.67        12\n",
      "          10       0.67      0.67      0.67         9\n",
      "          11       0.75      0.75      0.75         8\n",
      "          24       0.30      0.60      0.40         5\n",
      "          25       0.60      0.43      0.50         7\n",
      "          32       0.70      0.88      0.78         8\n",
      "          36       0.40      0.67      0.50         3\n",
      "          43       0.75      0.25      0.38        12\n",
      "          47       0.57      0.67      0.62         6\n",
      "\n",
      "    accuracy                           0.61        80\n",
      "   macro avg       0.61      0.63      0.60        80\n",
      "weighted avg       0.65      0.61      0.61        80\n",
      "\n"
     ]
    }
   ],
   "source": [
    "vm = SVC(kernel='rbf', C=100, gamma='scale', random_state=42)\n",
    "svm.fit(X_train_pca, y_train)\n",
    "\n",
    "# Predict on the test set\n",
    "y_pred = svm.predict(X_test_pca)\n",
    "\n",
    "# Evaluate performance\n",
    "print(\"Classification Report:\")\n",
    "print(classification_report(y_test, y_pred))"
   ]
  },
  {
   "cell_type": "code",
   "execution_count": 44,
   "metadata": {},
   "outputs": [
    {
     "data": {
      "image/png": "[encoded data removed]",
      "text/plain": [
       "<Figure size 800x600 with 2 Axes>"
      ]
     },
     "metadata": {},
     "output_type": "display_data"
    }
   ],
   "source": [
    "cm = confusion_matrix(y_test, y_pred)\n",
    "plt.figure(figsize=(8, 6))\n",
    "sns.heatmap(cm, annot=True, fmt='d', cmap='Blues', xticklabels=set(y_train), yticklabels=set(y_train))\n",
    "plt.xlabel('Predicted')\n",
    "plt.ylabel('Actual')\n",
    "plt.title('Confusion Matrix')\n",
    "plt.show()"
   ]
  }
 ],
 "metadata": {
  "kernelspec": {
   "display_name": "base",
   "language": "python",
   "name": "python3"
  },
  "language_info": {
   "codemirror_mode": {
    "name": "ipython",
    "version": 3
   },
   "file_extension": ".py",
   "mimetype": "text/x-python",
   "name": "python",
   "nbconvert_exporter": "python",
   "pygments_lexer": "ipython3",
   "version": "3.12.4"
  }
 },
 "nbformat": 4,
 "nbformat_minor": 4
}
