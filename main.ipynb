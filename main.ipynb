{
 "cells": [
  {
   "cell_type": "code",
   "execution_count": 1,
   "metadata": {},
   "outputs": [],
   "source": [
    "from data_utils import load_metadata, sample_sounds_by_category, load_wave_data, load_all_sounds\n",
    "from plot_utils import visualize_category_sounds,create_histogram_subplot\n",
    "from feature_utils import compute_features_for_wave_list, compute_combined_features_for_wave_list, save_features_to_npz, save_multiple_features_to_npz\n",
    "import numpy as np\n",
    "from sklearn.model_selection import train_test_split"
   ]
  },
  {
   "cell_type": "code",
   "execution_count": 2,
   "metadata": {},
   "outputs": [
    {
     "name": "stdout",
     "output_type": "stream",
     "text": [
      "               filename  fold  target        category  esc10  src_file take\n",
      "0      1-100032-A-0.wav     1       0             dog   True    100032    A\n",
      "1     1-100038-A-14.wav     1      14  chirping_birds  False    100038    A\n",
      "2     1-100210-A-36.wav     1      36  vacuum_cleaner  False    100210    A\n",
      "3     1-100210-B-36.wav     1      36  vacuum_cleaner  False    100210    B\n",
      "4     1-101296-A-19.wav     1      19    thunderstorm  False    101296    A\n",
      "...                 ...   ...     ...             ...    ...       ...  ...\n",
      "1995   5-263831-B-6.wav     5       6             hen  False    263831    B\n",
      "1996  5-263902-A-36.wav     5      36  vacuum_cleaner  False    263902    A\n",
      "1997   5-51149-A-25.wav     5      25       footsteps  False     51149    A\n",
      "1998    5-61635-A-8.wav     5       8           sheep  False     61635    A\n",
      "1999     5-9032-A-0.wav     5       0             dog   True      9032    A\n",
      "\n",
      "[2000 rows x 7 columns]\n"
     ]
    }
   ],
   "source": [
    "# 1) Specify paths\n",
    "csv_file_path = \"datasets/ESC-50-master/meta/esc50.csv\"\n",
    "audio_files_path = \"datasets/ESC-50-master/audio/\"\n",
    "\n",
    "# 2) Load metadata\n",
    "df = load_metadata(csv_file_path)\n",
    "\n",
    "print(df)\n",
    "\n",
    "# 3) Define categories\n",
    "categories = {\n",
    "    'Animals': ['dog', 'cat'],\n",
    "    'Natural soundscapes & water sounds': ['rain', 'sea_waves'],\n",
    "    'Human sounds': ['coughing', 'footsteps'],\n",
    "    'Interior/domestic sounds': ['keyboard_typing', 'vacuum_cleaner'],\n",
    "    'Exterior/urban noises': ['airplane', 'car_horn']\n",
    "}\n",
    "\n",
    "# 4) Sample sounds\n",
    "sampled_sounds = sample_sounds_by_category(df, categories)\n",
    "\n",
    "# 5) Load wave data\n",
    "# wave_list_data = load_wave_data(sampled_sounds, audio_files_path) #load_sample\n",
    "wave_list_data = load_all_sounds(df, categories, audio_files_path)\n",
    "\n",
    "# 6) Visualize\n",
    "# visualize_category_sounds(wave_list_data)"
   ]
  },
  {
   "cell_type": "code",
   "execution_count": 5,
   "metadata": {},
   "outputs": [
    {
     "data": {
      "text/plain": [
       "400"
      ]
     },
     "execution_count": 5,
     "metadata": {},
     "output_type": "execute_result"
    }
   ],
   "source": [
    "len(wave_list_data)"
   ]
  },
  {
   "cell_type": "code",
   "execution_count": 7,
   "metadata": {},
   "outputs": [
    {
     "name": "stdout",
     "output_type": "stream",
     "text": [
      "Sample 1:\n",
      "  Category: Animals\n",
      "  Filename: 1-100032-A-0.wav\n",
      "  Sample Rate: 44100\n",
      "  Sound Data Shape: (220500,)\n",
      "------------------------------\n",
      "Sample 2:\n",
      "  Category: Animals\n",
      "  Filename: 1-110389-A-0.wav\n",
      "  Sample Rate: 44100\n",
      "  Sound Data Shape: (220500,)\n",
      "------------------------------\n",
      "Sample 3:\n",
      "  Category: Animals\n",
      "  Filename: 1-30226-A-0.wav\n",
      "  Sample Rate: 44100\n",
      "  Sound Data Shape: (220500,)\n",
      "------------------------------\n"
     ]
    }
   ],
   "source": [
    "for i in range(3):\n",
    "    print(f\"Sample {i+1}:\")\n",
    "    print(\"  Category:\", wave_list_data[i][0])\n",
    "    print(\"  Filename:\", wave_list_data[i][1])\n",
    "    print(\"  Sample Rate:\", wave_list_data[i][2])\n",
    "    print(\"  Sound Data Shape:\", wave_list_data[i][3].shape)\n",
    "    print(\"-\" * 30)"
   ]
  },
  {
   "cell_type": "code",
   "execution_count": 6,
   "metadata": {},
   "outputs": [
    {
     "name": "stdout",
     "output_type": "stream",
     "text": [
      "Features saved to features/extracted_features_test.npz\n"
     ]
    }
   ],
   "source": [
    "# 7) Extract features\n",
    "keys_list, combined_features = compute_combined_features_for_wave_list(wave_list_data)\n",
    "# 8) Save features\n",
    "save_features_to_npz(keys_list, combined_features, out_file=\"features/extracted_features_test.npz\")"
   ]
  },
  {
   "cell_type": "code",
   "execution_count": 7,
   "metadata": {},
   "outputs": [],
   "source": [
    "loaded_data_1 = np.load(\"features/extracted_features_test.npz\")"
   ]
  },
  {
   "cell_type": "code",
   "execution_count": 8,
   "metadata": {},
   "outputs": [
    {
     "name": "stdout",
     "output_type": "stream",
     "text": [
      "Keys shape: (400,)\n",
      "Features shape: (400, 124)\n"
     ]
    }
   ],
   "source": [
    "print(\"Keys shape:\", loaded_data_1['keys'].shape)\n",
    "print(\"Features shape:\", loaded_data_1['features'].shape)"
   ]
  },
  {
   "cell_type": "code",
   "execution_count": 9,
   "metadata": {},
   "outputs": [
    {
     "name": "stdout",
     "output_type": "stream",
     "text": [
      "Multiple features saved to features/extracted_features_multiple_test.npz\n"
     ]
    }
   ],
   "source": [
    "keys_list, mfcc_list, hist_list, spectral_list = compute_features_for_wave_list(wave_list_data)\n",
    "save_multiple_features_to_npz(keys_list, mfcc_list, hist_list, spectral_list, out_file=\"features/extracted_features_multiple_test.npz\")\n"
   ]
  },
  {
   "cell_type": "code",
   "execution_count": 10,
   "metadata": {},
   "outputs": [
    {
     "name": "stdout",
     "output_type": "stream",
     "text": [
      "Stored arrays: ['keys', 'mfcc', 'hist', 'spectral']\n",
      "Keys shape: (400,)\n",
      "MFCC shape: (400, 26)\n",
      "Histogram shape: (400, 80)\n",
      "Spectral shape: (400, 18)\n",
      "First MFCC feature vector: [-5.8173993e+02  8.2071218e+00 -6.6588025e+00 -4.2909064e+00\n",
      " -3.0344779e+00  2.5927922e-01 -1.9639465e+00 -2.7157682e-01\n",
      "  5.1828414e-01  3.4188423e-01  9.0610188e-01 -9.5245531e-03\n",
      " -1.9054951e-01  8.6088226e+01  3.0637005e+01  2.6709665e+01\n",
      "  1.5894979e+01  1.2837584e+01  2.8392115e+00  9.4079237e+00\n",
      "  1.7255991e+00  2.6477423e+00  2.2029419e+00  4.1359434e+00\n",
      "  1.7318324e+00  1.7326120e+00]\n",
      "First histogram feature vector: [9.90483614e-01 5.11165893e-03 2.35643852e-03 7.97563805e-04\n",
      " 7.25058005e-04 1.99390951e-04 1.81264501e-04 9.06322506e-05\n",
      " 3.62529002e-05 1.81264501e-05 9.92241879e-01 4.27784223e-03\n",
      " 1.45011601e-03 8.15690255e-04 3.44402552e-04 3.08149652e-04\n",
      " 2.35643852e-04 1.45011601e-04 1.63138051e-04 1.81264501e-05\n",
      " 9.93855133e-01 4.38660093e-03 1.12383991e-03 3.26276102e-04\n",
      " 1.45011601e-04 5.43793503e-05 3.62529002e-05 5.43793503e-05\n",
      " 0.00000000e+00 1.81264501e-05 9.86042633e-01 8.70069606e-03\n",
      " 3.20838167e-03 1.14196636e-03 5.25667053e-04 1.08758701e-04\n",
      " 1.63138051e-04 5.43793503e-05 3.62529002e-05 1.81264501e-05\n",
      " 9.86658933e-01 7.30495940e-03 3.33526682e-03 1.30510441e-03\n",
      " 5.98172854e-04 3.98781903e-04 1.99390951e-04 7.25058005e-05\n",
      " 5.43793503e-05 7.25058005e-05 9.83468677e-01 7.10556845e-03\n",
      " 4.64037123e-03 2.88210557e-03 1.12383991e-03 5.25667053e-04\n",
      " 1.63138051e-04 5.43793503e-05 0.00000000e+00 3.62529002e-05\n",
      " 9.98984919e-01 3.08149652e-04 1.63138051e-04 1.63138051e-04\n",
      " 1.45011601e-04 5.43793503e-05 5.43793503e-05 3.62529002e-05\n",
      " 3.62529002e-05 5.43793503e-05 9.92499865e-01 3.81301822e-03\n",
      " 1.60074821e-03 8.09367075e-04 5.03606180e-04 3.05760895e-04\n",
      " 1.97845285e-04 1.25901545e-04 3.59718700e-05 1.07915610e-04]\n",
      "First spectral feature vector: [2.73927703e+02 1.16862207e+03 1.27822286e+01 1.23184024e+01\n",
      " 1.30478065e+01 1.29029186e+01 1.32025041e+01 1.32941864e+01\n",
      " 1.43554737e+01 1.35601715e+00 1.76618082e+00 1.71209071e+00\n",
      " 1.22445246e+00 1.55489593e+00 1.99081248e+00 6.15189287e+00\n",
      " 1.71640417e+03 7.21059326e+02]\n"
     ]
    }
   ],
   "source": [
    "loaded_data = np.load(\"features/extracted_features_multiple_test.npz\")\n",
    "print(\"Stored arrays:\", loaded_data.files)\n",
    "\n",
    "print(\"Keys shape:\", loaded_data['keys'].shape)\n",
    "print(\"MFCC shape:\", loaded_data['mfcc'].shape)\n",
    "print(\"Histogram shape:\", loaded_data['hist'].shape)\n",
    "print(\"Spectral shape:\", loaded_data['spectral'].shape)\n",
    "\n",
    "print(\"First MFCC feature vector:\", loaded_data['mfcc'][0])\n",
    "print(\"First histogram feature vector:\", loaded_data['hist'][0])\n",
    "print(\"First spectral feature vector:\", loaded_data['spectral'][0])"
   ]
  },
  {
   "cell_type": "code",
   "execution_count": 17,
   "metadata": {},
   "outputs": [
    {
     "name": "stdout",
     "output_type": "stream",
     "text": [
      "Unique class labels: {0, 32, 36, 5, 10, 11, 43, 47, 24, 25}\n"
     ]
    }
   ],
   "source": [
    "unique_keys = set(keys_list)\n",
    "print(\"Unique class labels:\", unique_keys)"
   ]
  },
  {
   "cell_type": "code",
   "execution_count": 19,
   "metadata": {},
   "outputs": [],
   "source": [
    "# Extract features and labels\n",
    "keys_list = loaded_data['keys']\n",
    "mfcc_features = loaded_data['mfcc']\n",
    "hist_features = loaded_data['hist']\n",
    "spectral_features = loaded_data['spectral']"
   ]
  },
  {
   "cell_type": "code",
   "execution_count": 21,
   "metadata": {},
   "outputs": [],
   "source": [
    "combined_features = np.hstack([mfcc_features, hist_features, spectral_features])"
   ]
  },
  {
   "cell_type": "code",
   "execution_count": 23,
   "metadata": {},
   "outputs": [],
   "source": [
    "selected_features = mfcc_features"
   ]
  },
  {
   "cell_type": "code",
   "execution_count": 25,
   "metadata": {},
   "outputs": [
    {
     "name": "stdout",
     "output_type": "stream",
     "text": [
      "Training set size: (320, 124)\n",
      "Test set size: (80, 124)\n"
     ]
    }
   ],
   "source": [
    "X = combined_features\n",
    "y = keys_list\n",
    "\n",
    "X_train, X_test, y_train, y_test = train_test_split(X, y, test_size=0.2, random_state=42) # Split into training and testing sets\n",
    "\n",
    "print(\"Training set size:\", X_train.shape)\n",
    "print(\"Test set size:\", X_test.shape)"
   ]
  },
  {
   "cell_type": "code",
   "execution_count": 27,
   "metadata": {},
   "outputs": [
    {
     "name": "stdout",
     "output_type": "stream",
     "text": [
      "Classification Report:\n",
      "              precision    recall  f1-score   support\n",
      "\n",
      "           0       0.33      0.30      0.32        10\n",
      "           5       0.33      0.17      0.22        12\n",
      "          10       0.33      0.11      0.17         9\n",
      "          11       0.38      0.62      0.48         8\n",
      "          24       0.08      0.20      0.12         5\n",
      "          25       0.33      0.29      0.31         7\n",
      "          32       0.75      0.38      0.50         8\n",
      "          36       0.08      0.33      0.13         3\n",
      "          43       0.00      0.00      0.00        12\n",
      "          47       0.27      0.50      0.35         6\n",
      "\n",
      "    accuracy                           0.26        80\n",
      "   macro avg       0.29      0.29      0.26        80\n",
      "weighted avg       0.30      0.26      0.25        80\n",
      "\n"
     ]
    },
    {
     "data": {
      "image/png": "[encoded data removed]",
      "text/plain": [
       "<Figure size 800x600 with 2 Axes>"
      ]
     },
     "metadata": {},
     "output_type": "display_data"
    }
   ],
   "source": [
    "from sklearn.svm import SVC\n",
    "from sklearn.metrics import classification_report, confusion_matrix\n",
    "import matplotlib.pyplot as plt\n",
    "import seaborn as sns\n",
    "\n",
    "# Initialize the SVM classifier\n",
    "svm = SVC(kernel='rbf', C=1.0, gamma='scale', random_state=42)\n",
    "\n",
    "# Train the SVM classifier\n",
    "svm.fit(X_train, y_train)\n",
    "\n",
    "# Make predictions on the test set\n",
    "y_pred = svm.predict(X_test)\n",
    "\n",
    "# Evaluate performance\n",
    "print(\"Classification Report:\")\n",
    "print(classification_report(y_test, y_pred))\n",
    "\n",
    "# Display confusion matrix\n",
    "cm = confusion_matrix(y_test, y_pred)\n",
    "plt.figure(figsize=(8, 6))\n",
    "sns.heatmap(cm, annot=True, fmt='d', cmap='Blues', xticklabels=set(y_train), yticklabels=set(y_train))\n",
    "plt.xlabel('Predicted')\n",
    "plt.ylabel('Actual')\n",
    "plt.title('Confusion Matrix')\n",
    "plt.show()"
   ]
  },
  {
   "cell_type": "code",
   "execution_count": 29,
   "metadata": {},
   "outputs": [
    {
     "name": "stdout",
     "output_type": "stream",
     "text": [
      "Fitting 5 folds for each of 16 candidates, totalling 80 fits\n",
      "[CV] END ......................C=0.1, gamma=0.01, kernel=rbf; total time=   0.0s\n",
      "[CV] END ......................C=0.1, gamma=0.01, kernel=rbf; total time=   0.0s\n",
      "[CV] END ......................C=0.1, gamma=0.01, kernel=rbf; total time=   0.0s\n",
      "[CV] END ......................C=0.1, gamma=0.01, kernel=rbf; total time=   0.0s\n",
      "[CV] END ......................C=0.1, gamma=0.01, kernel=rbf; total time=   0.0s\n",
      "[CV] END .......................C=0.1, gamma=0.1, kernel=rbf; total time=   0.0s\n",
      "[CV] END .......................C=0.1, gamma=0.1, kernel=rbf; total time=   0.0s\n",
      "[CV] END .......................C=0.1, gamma=0.1, kernel=rbf; total time=   0.0s\n",
      "[CV] END .......................C=0.1, gamma=0.1, kernel=rbf; total time=   0.0s\n",
      "[CV] END .......................C=0.1, gamma=0.1, kernel=rbf; total time=   0.0s\n",
      "[CV] END .........................C=0.1, gamma=1, kernel=rbf; total time=   0.0s\n",
      "[CV] END .........................C=0.1, gamma=1, kernel=rbf; total time=   0.0s\n",
      "[CV] END .........................C=0.1, gamma=1, kernel=rbf; total time=   0.0s\n",
      "[CV] END .........................C=0.1, gamma=1, kernel=rbf; total time=   0.0s\n",
      "[CV] END .........................C=0.1, gamma=1, kernel=rbf; total time=   0.0s\n",
      "[CV] END .....................C=0.1, gamma=scale, kernel=rbf; total time=   0.0s\n",
      "[CV] END .....................C=0.1, gamma=scale, kernel=rbf; total time=   0.0s\n",
      "[CV] END .....................C=0.1, gamma=scale, kernel=rbf; total time=   0.0s\n",
      "[CV] END .....................C=0.1, gamma=scale, kernel=rbf; total time=   0.0s\n",
      "[CV] END .....................C=0.1, gamma=scale, kernel=rbf; total time=   0.0s\n",
      "[CV] END ........................C=1, gamma=0.01, kernel=rbf; total time=   0.0s\n",
      "[CV] END ........................C=1, gamma=0.01, kernel=rbf; total time=   0.0s\n",
      "[CV] END ........................C=1, gamma=0.01, kernel=rbf; total time=   0.0s\n",
      "[CV] END ........................C=1, gamma=0.01, kernel=rbf; total time=   0.0s\n",
      "[CV] END ........................C=1, gamma=0.01, kernel=rbf; total time=   0.0s\n",
      "[CV] END .........................C=1, gamma=0.1, kernel=rbf; total time=   0.0s\n",
      "[CV] END .........................C=1, gamma=0.1, kernel=rbf; total time=   0.0s\n",
      "[CV] END .........................C=1, gamma=0.1, kernel=rbf; total time=   0.0s\n",
      "[CV] END .........................C=1, gamma=0.1, kernel=rbf; total time=   0.0s\n",
      "[CV] END .........................C=1, gamma=0.1, kernel=rbf; total time=   0.0s\n",
      "[CV] END ...........................C=1, gamma=1, kernel=rbf; total time=   0.0s\n",
      "[CV] END ...........................C=1, gamma=1, kernel=rbf; total time=   0.0s\n",
      "[CV] END ...........................C=1, gamma=1, kernel=rbf; total time=   0.0s\n",
      "[CV] END ...........................C=1, gamma=1, kernel=rbf; total time=   0.0s\n",
      "[CV] END ...........................C=1, gamma=1, kernel=rbf; total time=   0.0s\n",
      "[CV] END .......................C=1, gamma=scale, kernel=rbf; total time=   0.0s\n",
      "[CV] END .......................C=1, gamma=scale, kernel=rbf; total time=   0.0s\n",
      "[CV] END .......................C=1, gamma=scale, kernel=rbf; total time=   0.0s\n",
      "[CV] END .......................C=1, gamma=scale, kernel=rbf; total time=   0.0s\n",
      "[CV] END .......................C=1, gamma=scale, kernel=rbf; total time=   0.0s\n",
      "[CV] END .......................C=10, gamma=0.01, kernel=rbf; total time=   0.0s\n",
      "[CV] END .......................C=10, gamma=0.01, kernel=rbf; total time=   0.0s\n",
      "[CV] END .......................C=10, gamma=0.01, kernel=rbf; total time=   0.0s\n",
      "[CV] END .......................C=10, gamma=0.01, kernel=rbf; total time=   0.0s\n",
      "[CV] END .......................C=10, gamma=0.01, kernel=rbf; total time=   0.0s\n",
      "[CV] END ........................C=10, gamma=0.1, kernel=rbf; total time=   0.0s\n",
      "[CV] END ........................C=10, gamma=0.1, kernel=rbf; total time=   0.0s\n",
      "[CV] END ........................C=10, gamma=0.1, kernel=rbf; total time=   0.0s\n",
      "[CV] END ........................C=10, gamma=0.1, kernel=rbf; total time=   0.0s\n",
      "[CV] END ........................C=10, gamma=0.1, kernel=rbf; total time=   0.0s\n",
      "[CV] END ..........................C=10, gamma=1, kernel=rbf; total time=   0.0s\n",
      "[CV] END ..........................C=10, gamma=1, kernel=rbf; total time=   0.0s\n",
      "[CV] END ..........................C=10, gamma=1, kernel=rbf; total time=   0.0s\n",
      "[CV] END ..........................C=10, gamma=1, kernel=rbf; total time=   0.0s\n",
      "[CV] END ..........................C=10, gamma=1, kernel=rbf; total time=   0.0s\n",
      "[CV] END ......................C=10, gamma=scale, kernel=rbf; total time=   0.0s\n",
      "[CV] END ......................C=10, gamma=scale, kernel=rbf; total time=   0.0s\n",
      "[CV] END ......................C=10, gamma=scale, kernel=rbf; total time=   0.0s\n",
      "[CV] END ......................C=10, gamma=scale, kernel=rbf; total time=   0.0s\n",
      "[CV] END ......................C=10, gamma=scale, kernel=rbf; total time=   0.0s\n",
      "[CV] END ......................C=100, gamma=0.01, kernel=rbf; total time=   0.0s\n",
      "[CV] END ......................C=100, gamma=0.01, kernel=rbf; total time=   0.0s\n",
      "[CV] END ......................C=100, gamma=0.01, kernel=rbf; total time=   0.0s\n",
      "[CV] END ......................C=100, gamma=0.01, kernel=rbf; total time=   0.0s\n",
      "[CV] END ......................C=100, gamma=0.01, kernel=rbf; total time=   0.0s\n",
      "[CV] END .......................C=100, gamma=0.1, kernel=rbf; total time=   0.0s\n",
      "[CV] END .......................C=100, gamma=0.1, kernel=rbf; total time=   0.0s\n",
      "[CV] END .......................C=100, gamma=0.1, kernel=rbf; total time=   0.0s\n",
      "[CV] END .......................C=100, gamma=0.1, kernel=rbf; total time=   0.0s\n",
      "[CV] END .......................C=100, gamma=0.1, kernel=rbf; total time=   0.0s\n",
      "[CV] END .........................C=100, gamma=1, kernel=rbf; total time=   0.0s\n",
      "[CV] END .........................C=100, gamma=1, kernel=rbf; total time=   0.0s\n",
      "[CV] END .........................C=100, gamma=1, kernel=rbf; total time=   0.0s\n",
      "[CV] END .........................C=100, gamma=1, kernel=rbf; total time=   0.0s\n",
      "[CV] END .........................C=100, gamma=1, kernel=rbf; total time=   0.0s\n",
      "[CV] END .....................C=100, gamma=scale, kernel=rbf; total time=   0.0s\n",
      "[CV] END .....................C=100, gamma=scale, kernel=rbf; total time=   0.0s\n",
      "[CV] END .....................C=100, gamma=scale, kernel=rbf; total time=   0.0s\n",
      "[CV] END .....................C=100, gamma=scale, kernel=rbf; total time=   0.0s\n",
      "[CV] END .....................C=100, gamma=scale, kernel=rbf; total time=   0.0s\n",
      "Best parameters: {'C': 100, 'gamma': 'scale', 'kernel': 'rbf'}\n"
     ]
    }
   ],
   "source": [
    "from sklearn.model_selection import GridSearchCV\n",
    "\n",
    "param_grid = {\n",
    "    'C': [0.1, 1, 10, 100],\n",
    "    'gamma': [0.01, 0.1, 1, 'scale'],\n",
    "    'kernel': ['rbf']\n",
    "}\n",
    "\n",
    "grid_search = GridSearchCV(SVC(), param_grid, cv=5, verbose=2)\n",
    "grid_search.fit(X_train, y_train)\n",
    "print(\"Best parameters:\", grid_search.best_params_)"
   ]
  },
  {
   "cell_type": "code",
   "execution_count": 31,
   "metadata": {},
   "outputs": [
    {
     "name": "stdout",
     "output_type": "stream",
     "text": [
      "Classification Report:\n",
      "              precision    recall  f1-score   support\n",
      "\n",
      "           0       0.50      0.70      0.58        10\n",
      "           5       0.50      0.42      0.45        12\n",
      "          10       0.78      0.78      0.78         9\n",
      "          11       0.50      0.62      0.56         8\n",
      "          24       0.15      0.40      0.22         5\n",
      "          25       0.43      0.43      0.43         7\n",
      "          32       0.50      0.38      0.43         8\n",
      "          36       0.50      0.67      0.57         3\n",
      "          43       1.00      0.08      0.15        12\n",
      "          47       0.67      0.67      0.67         6\n",
      "\n",
      "    accuracy                           0.49        80\n",
      "   macro avg       0.55      0.51      0.48        80\n",
      "weighted avg       0.59      0.49      0.47        80\n",
      "\n"
     ]
    },
    {
     "data": {
      "image/png": "[encoded data removed]",
      "text/plain": [
       "<Figure size 800x600 with 2 Axes>"
      ]
     },
     "metadata": {},
     "output_type": "display_data"
    }
   ],
   "source": [
    "svm = SVC(kernel='rbf', C=100, gamma='scale', random_state=42)\n",
    "\n",
    "# Train the SVM classifier\n",
    "svm.fit(X_train, y_train)\n",
    "\n",
    "# Make predictions on the test set\n",
    "y_pred = svm.predict(X_test)\n",
    "\n",
    "# Evaluate performance\n",
    "print(\"Classification Report:\")\n",
    "print(classification_report(y_test, y_pred))\n",
    "\n",
    "# Display confusion matrix\n",
    "cm = confusion_matrix(y_test, y_pred)\n",
    "plt.figure(figsize=(8, 6))\n",
    "sns.heatmap(cm, annot=True, fmt='d', cmap='Blues', xticklabels=set(y_train), yticklabels=set(y_train))\n",
    "plt.xlabel('Predicted')\n",
    "plt.ylabel('Actual')\n",
    "plt.title('Confusion Matrix')\n",
    "plt.show()"
   ]
  },
  {
   "cell_type": "code",
   "execution_count": 46,
   "metadata": {},
   "outputs": [
    {
     "name": "stdout",
     "output_type": "stream",
     "text": [
      "Explained variance ratio: [8.19097505e-01 1.25594637e-01 4.60136963e-02 4.21133490e-03\n",
      " 3.62318465e-03 5.20426043e-04 3.73092423e-04 1.36139247e-04\n",
      " 1.10724332e-04 9.63656230e-05]\n",
      "Reduced feature shape: (320, 10)\n"
     ]
    }
   ],
   "source": [
    "from sklearn.decomposition import PCA\n",
    "\n",
    "# Reduce features to 4 dimensions using PCA\n",
    "pca = PCA(n_components=10)\n",
    "X_train_pca = pca.fit_transform(X_train)\n",
    "X_test_pca = pca.transform(X_test)\n",
    "\n",
    "print(\"Explained variance ratio:\", pca.explained_variance_ratio_)\n",
    "print(\"Reduced feature shape:\", X_train_pca.shape)"
   ]
  },
  {
   "cell_type": "code",
   "execution_count": 48,
   "metadata": {},
   "outputs": [
    {
     "name": "stdout",
     "output_type": "stream",
     "text": [
      "Fitting 5 folds for each of 16 candidates, totalling 80 fits\n",
      "[CV] END ......................C=0.1, gamma=0.01, kernel=rbf; total time=   0.0s\n",
      "[CV] END ......................C=0.1, gamma=0.01, kernel=rbf; total time=   0.0s\n",
      "[CV] END ......................C=0.1, gamma=0.01, kernel=rbf; total time=   0.0s\n",
      "[CV] END ......................C=0.1, gamma=0.01, kernel=rbf; total time=   0.0s\n",
      "[CV] END ......................C=0.1, gamma=0.01, kernel=rbf; total time=   0.0s\n",
      "[CV] END .......................C=0.1, gamma=0.1, kernel=rbf; total time=   0.0s\n",
      "[CV] END .......................C=0.1, gamma=0.1, kernel=rbf; total time=   0.0s\n",
      "[CV] END .......................C=0.1, gamma=0.1, kernel=rbf; total time=   0.0s\n",
      "[CV] END .......................C=0.1, gamma=0.1, kernel=rbf; total time=   0.0s\n",
      "[CV] END .......................C=0.1, gamma=0.1, kernel=rbf; total time=   0.0s\n",
      "[CV] END .........................C=0.1, gamma=1, kernel=rbf; total time=   0.0s\n",
      "[CV] END .........................C=0.1, gamma=1, kernel=rbf; total time=   0.0s\n",
      "[CV] END .........................C=0.1, gamma=1, kernel=rbf; total time=   0.0s\n",
      "[CV] END .........................C=0.1, gamma=1, kernel=rbf; total time=   0.0s\n",
      "[CV] END .........................C=0.1, gamma=1, kernel=rbf; total time=   0.0s\n",
      "[CV] END .....................C=0.1, gamma=scale, kernel=rbf; total time=   0.0s\n",
      "[CV] END .....................C=0.1, gamma=scale, kernel=rbf; total time=   0.0s\n",
      "[CV] END .....................C=0.1, gamma=scale, kernel=rbf; total time=   0.0s\n",
      "[CV] END .....................C=0.1, gamma=scale, kernel=rbf; total time=   0.0s\n",
      "[CV] END .....................C=0.1, gamma=scale, kernel=rbf; total time=   0.0s\n",
      "[CV] END ........................C=1, gamma=0.01, kernel=rbf; total time=   0.0s\n",
      "[CV] END ........................C=1, gamma=0.01, kernel=rbf; total time=   0.0s\n",
      "[CV] END ........................C=1, gamma=0.01, kernel=rbf; total time=   0.0s\n",
      "[CV] END ........................C=1, gamma=0.01, kernel=rbf; total time=   0.0s\n",
      "[CV] END ........................C=1, gamma=0.01, kernel=rbf; total time=   0.0s\n",
      "[CV] END .........................C=1, gamma=0.1, kernel=rbf; total time=   0.0s\n",
      "[CV] END .........................C=1, gamma=0.1, kernel=rbf; total time=   0.0s\n",
      "[CV] END .........................C=1, gamma=0.1, kernel=rbf; total time=   0.0s\n",
      "[CV] END .........................C=1, gamma=0.1, kernel=rbf; total time=   0.0s\n",
      "[CV] END .........................C=1, gamma=0.1, kernel=rbf; total time=   0.0s\n",
      "[CV] END ...........................C=1, gamma=1, kernel=rbf; total time=   0.0s\n",
      "[CV] END ...........................C=1, gamma=1, kernel=rbf; total time=   0.0s\n",
      "[CV] END ...........................C=1, gamma=1, kernel=rbf; total time=   0.0s\n",
      "[CV] END ...........................C=1, gamma=1, kernel=rbf; total time=   0.0s\n",
      "[CV] END ...........................C=1, gamma=1, kernel=rbf; total time=   0.0s\n",
      "[CV] END .......................C=1, gamma=scale, kernel=rbf; total time=   0.0s\n",
      "[CV] END .......................C=1, gamma=scale, kernel=rbf; total time=   0.0s\n",
      "[CV] END .......................C=1, gamma=scale, kernel=rbf; total time=   0.0s\n",
      "[CV] END .......................C=1, gamma=scale, kernel=rbf; total time=   0.0s\n",
      "[CV] END .......................C=1, gamma=scale, kernel=rbf; total time=   0.0s\n",
      "[CV] END .......................C=10, gamma=0.01, kernel=rbf; total time=   0.0s\n",
      "[CV] END .......................C=10, gamma=0.01, kernel=rbf; total time=   0.0s\n",
      "[CV] END .......................C=10, gamma=0.01, kernel=rbf; total time=   0.0s\n",
      "[CV] END .......................C=10, gamma=0.01, kernel=rbf; total time=   0.0s\n",
      "[CV] END .......................C=10, gamma=0.01, kernel=rbf; total time=   0.0s\n",
      "[CV] END ........................C=10, gamma=0.1, kernel=rbf; total time=   0.0s\n",
      "[CV] END ........................C=10, gamma=0.1, kernel=rbf; total time=   0.0s\n",
      "[CV] END ........................C=10, gamma=0.1, kernel=rbf; total time=   0.0s\n",
      "[CV] END ........................C=10, gamma=0.1, kernel=rbf; total time=   0.0s\n",
      "[CV] END ........................C=10, gamma=0.1, kernel=rbf; total time=   0.0s\n",
      "[CV] END ..........................C=10, gamma=1, kernel=rbf; total time=   0.0s\n",
      "[CV] END ..........................C=10, gamma=1, kernel=rbf; total time=   0.0s\n",
      "[CV] END ..........................C=10, gamma=1, kernel=rbf; total time=   0.0s\n",
      "[CV] END ..........................C=10, gamma=1, kernel=rbf; total time=   0.0s\n",
      "[CV] END ..........................C=10, gamma=1, kernel=rbf; total time=   0.0s\n",
      "[CV] END ......................C=10, gamma=scale, kernel=rbf; total time=   0.0s\n",
      "[CV] END ......................C=10, gamma=scale, kernel=rbf; total time=   0.0s\n",
      "[CV] END ......................C=10, gamma=scale, kernel=rbf; total time=   0.0s\n",
      "[CV] END ......................C=10, gamma=scale, kernel=rbf; total time=   0.0s\n",
      "[CV] END ......................C=10, gamma=scale, kernel=rbf; total time=   0.0s\n",
      "[CV] END ......................C=100, gamma=0.01, kernel=rbf; total time=   0.0s\n",
      "[CV] END ......................C=100, gamma=0.01, kernel=rbf; total time=   0.0s\n",
      "[CV] END ......................C=100, gamma=0.01, kernel=rbf; total time=   0.0s\n",
      "[CV] END ......................C=100, gamma=0.01, kernel=rbf; total time=   0.0s\n",
      "[CV] END ......................C=100, gamma=0.01, kernel=rbf; total time=   0.0s\n",
      "[CV] END .......................C=100, gamma=0.1, kernel=rbf; total time=   0.0s\n",
      "[CV] END .......................C=100, gamma=0.1, kernel=rbf; total time=   0.0s\n",
      "[CV] END .......................C=100, gamma=0.1, kernel=rbf; total time=   0.0s\n",
      "[CV] END .......................C=100, gamma=0.1, kernel=rbf; total time=   0.0s\n",
      "[CV] END .......................C=100, gamma=0.1, kernel=rbf; total time=   0.0s\n",
      "[CV] END .........................C=100, gamma=1, kernel=rbf; total time=   0.0s\n",
      "[CV] END .........................C=100, gamma=1, kernel=rbf; total time=   0.0s\n",
      "[CV] END .........................C=100, gamma=1, kernel=rbf; total time=   0.0s\n",
      "[CV] END .........................C=100, gamma=1, kernel=rbf; total time=   0.0s\n",
      "[CV] END .........................C=100, gamma=1, kernel=rbf; total time=   0.0s\n",
      "[CV] END .....................C=100, gamma=scale, kernel=rbf; total time=   0.0s\n",
      "[CV] END .....................C=100, gamma=scale, kernel=rbf; total time=   0.0s\n",
      "[CV] END .....................C=100, gamma=scale, kernel=rbf; total time=   0.0s\n",
      "[CV] END .....................C=100, gamma=scale, kernel=rbf; total time=   0.0s\n",
      "[CV] END .....................C=100, gamma=scale, kernel=rbf; total time=   0.0s\n",
      "Best parameters: {'C': 100, 'gamma': 'scale', 'kernel': 'rbf'}\n"
     ]
    }
   ],
   "source": [
    "param_grid = {\n",
    "    'C': [0.1, 1, 10, 100],\n",
    "    'gamma': [0.01, 0.1, 1, 'scale'],\n",
    "    'kernel': ['rbf']\n",
    "}\n",
    "\n",
    "grid_search = GridSearchCV(SVC(), param_grid, cv=5, verbose=2)\n",
    "grid_search.fit(X_train_pca, y_train)\n",
    "print(\"Best parameters:\", grid_search.best_params_)"
   ]
  },
  {
   "cell_type": "code",
   "execution_count": 50,
   "metadata": {},
   "outputs": [
    {
     "name": "stdout",
     "output_type": "stream",
     "text": [
      "Classification Report:\n",
      "              precision    recall  f1-score   support\n",
      "\n",
      "           0       0.56      0.90      0.69        10\n",
      "           5       0.60      0.50      0.55        12\n",
      "          10       0.78      0.78      0.78         9\n",
      "          11       0.88      0.88      0.88         8\n",
      "          24       0.13      0.40      0.20         5\n",
      "          25       0.57      0.57      0.57         7\n",
      "          32       0.50      0.25      0.33         8\n",
      "          36       0.50      0.67      0.57         3\n",
      "          43       1.00      0.17      0.29        12\n",
      "          47       0.80      0.67      0.73         6\n",
      "\n",
      "    accuracy                           0.56        80\n",
      "   macro avg       0.63      0.58      0.56        80\n",
      "weighted avg       0.67      0.56      0.56        80\n",
      "\n"
     ]
    }
   ],
   "source": [
    "vm = SVC(kernel='rbf', C=100, gamma='scale', random_state=42)\n",
    "svm.fit(X_train_pca, y_train)\n",
    "\n",
    "# Predict on the test set\n",
    "y_pred = svm.predict(X_test_pca)\n",
    "\n",
    "# Evaluate performance\n",
    "print(\"Classification Report:\")\n",
    "print(classification_report(y_test, y_pred))"
   ]
  },
  {
   "cell_type": "code",
   "execution_count": null,
   "metadata": {},
   "outputs": [],
   "source": []
  },
  {
   "cell_type": "code",
   "execution_count": 52,
   "metadata": {},
   "outputs": [
    {
     "ename": "NameError",
     "evalue": "name 'librosa' is not defined",
     "output_type": "error",
     "traceback": [
      "\u001b[0;31m---------------------------------------------------------------------------\u001b[0m",
      "\u001b[0;31mNameError\u001b[0m                                 Traceback (most recent call last)",
      "Cell \u001b[0;32mIn[52], line 12\u001b[0m\n\u001b[1;32m      9\u001b[0m keys_list\u001b[38;5;241m.\u001b[39mappend(class_number)\n\u001b[1;32m     11\u001b[0m \u001b[38;5;66;03m# Extract MFCCs and delta MFCCs\u001b[39;00m\n\u001b[0;32m---> 12\u001b[0m mfcc \u001b[38;5;241m=\u001b[39m librosa\u001b[38;5;241m.\u001b[39mfeature\u001b[38;5;241m.\u001b[39mmfcc(y\u001b[38;5;241m=\u001b[39msound_data, sr\u001b[38;5;241m=\u001b[39msample_rate, n_mfcc\u001b[38;5;241m=\u001b[39m\u001b[38;5;241m13\u001b[39m)\n\u001b[1;32m     13\u001b[0m delta_mfcc \u001b[38;5;241m=\u001b[39m librosa\u001b[38;5;241m.\u001b[39mfeature\u001b[38;5;241m.\u001b[39mdelta(mfcc)\n\u001b[1;32m     15\u001b[0m \u001b[38;5;66;03m# Combine MFCCs and delta MFCCs, then compute mean and std\u001b[39;00m\n",
      "\u001b[0;31mNameError\u001b[0m: name 'librosa' is not defined"
     ]
    }
   ],
   "source": [
    "\n",
    "# Prepare feature lists\n",
    "keys_list = []\n",
    "combined_features = []\n",
    "\n",
    "# Loop through wave_list_data to extract features\n",
    "for category, filename, sample_rate, sound_data in wave_list_data:\n",
    "    # Extract class number\n",
    "    class_number = int(filename.split('-')[-1].replace('.wav', ''))\n",
    "    keys_list.append(class_number)\n",
    "\n",
    "    # Extract MFCCs and delta MFCCs\n",
    "    mfcc = librosa.feature.mfcc(y=sound_data, sr=sample_rate, n_mfcc=13)\n",
    "    delta_mfcc = librosa.feature.delta(mfcc)\n",
    "\n",
    "    # Combine MFCCs and delta MFCCs, then compute mean and std\n",
    "    mfcc_combined = np.concatenate((mfcc, delta_mfcc), axis=0)\n",
    "    mfcc_mean = np.mean(mfcc_combined, axis=1)\n",
    "    mfcc_std = np.std(mfcc_combined, axis=1)\n",
    "    mfcc_feature_vector = np.concatenate([mfcc_mean, mfcc_std])\n",
    "\n",
    "    # Append the combined MFCC features\n",
    "    combined_features.append(mfcc_feature_vector)\n",
    "\n",
    "# Convert to array\n",
    "X = np.array(combined_features)\n",
    "y = np.array(keys_list)\n",
    "\n",
    "# Train-test split\n",
    "X_train, X_test, y_train, y_test = train_test_split(X, y, test_size=0.2, random_state=42)\n",
    "\n",
    "# Train SVM\n",
    "svm = SVC(kernel='rbf', C=1.0, gamma='scale', random_state=42)\n",
    "svm.fit(X_train, y_train)\n",
    "\n",
    "# Predictions and evaluation\n",
    "y_pred = svm.predict(X_test)\n",
    "print(\"Classification Report:\")\n",
    "print(classification_report(y_test, y_pred))"
   ]
  },
  {
   "cell_type": "code",
   "execution_count": null,
   "metadata": {},
   "outputs": [],
   "source": []
  }
 ],
 "metadata": {
  "kernelspec": {
   "display_name": "Python 3 (ipykernel)",
   "language": "python",
   "name": "python3"
  },
  "language_info": {
   "codemirror_mode": {
    "name": "ipython",
    "version": 3
   },
   "file_extension": ".py",
   "mimetype": "text/x-python",
   "name": "python",
   "nbconvert_exporter": "python",
   "pygments_lexer": "ipython3",
   "version": "3.12.2"
  }
 },
 "nbformat": 4,
 "nbformat_minor": 4
}
