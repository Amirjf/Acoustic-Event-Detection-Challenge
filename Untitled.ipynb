{
 "cells": [
  {
   "cell_type": "code",
   "execution_count": null,
   "id": "67396660-a3df-4636-bb01-6a31e21994f9",
   "metadata": {},
   "outputs": [],
   "source": [
    "# Main Assignment Steps\n",
    "\n",
    "## Understanding Your Data\n",
    "\n",
    "- [x] read in only the wav files you want (10 classes from 5 different categories - you can use pandas to create a filtered list to get these, or use the end-number of each wav file to filter them when reading them in)\n",
    "- [ ] visualise an instance of each class (as a spectogram or spectrum, for example)\n",
    "\n",
    "## Extracting Features (*Individually Graded*)\n",
    "\n",
    "- [ ] Extract lower dimensional features from your data (e.g. binned histograms from banded spectrograms or MFCCs)\n",
    "\n",
    "- [ ] Create variations of these features (e.g. distribution of the bin edges, how you band the spectogram etc)\n",
    "\n",
    "  {Advise: Save out the results to NPZ files so you don't have to regenerate these again}\n",
    "\n",
    "## Modeling Your Data (Algorithm Development)\n",
    "\n",
    "- [ ] Split your features into training and test sets (a ratio of 80:20 is recommended, but 90:10 also works)\n",
    "\n",
    "- [ ] Split your training data into train and validation sets (you should use folds here)\n",
    "\n",
    "- [ ] Fit each set of train data to your model and vary the model parameters:\n",
    "\n",
    "  - [ ] For SVM (kernel type, C or Gamma)\n",
    "\n",
    "  - [ ] For K-means (number of clusters) \n",
    "\n",
    "  - [ ] For others [Optional] e.g. K-medoids (convergence criteria)\n",
    "\n",
    "    {Note: For unsupervised algorithms, you need to figure out how to apply labels to the clusters - maybe \"majority values\" or \"closest data point\"? 🤷🏽‍♂️}\n",
    "\n",
    "- [ ] Use the validation data to assess the performance of said parameters (ROC and AUC may be used to select the best values)\n",
    "\n",
    "- [ ] You should also end up with models based on different features \n",
    "\n",
    "- [ ] Select a subset of models based on performance (e.g. Linear SVM based on feature_set1, Linear SVM based on feature_set2, RBF SVM based on feature_set1, RBF SVM based on feature_set2, K-means with 10 clusters for feature_set2 etc etc )\n",
    "\n",
    "## Comparing Your Models\n",
    "\n",
    "- [ ] Use test set to calculate metrics such as accuracy, TPR, FPR\n",
    "- [ ] Plot these out on a coverage plot\n",
    "- [ ] Write a commetary on the performance of the models (based on the Coverage Plot, and maybe add a few confusion matrixes)"
   ]
  }
 ],
 "metadata": {
  "kernelspec": {
   "display_name": "Python 3 (ipykernel)",
   "language": "python",
   "name": "python3"
  },
  "language_info": {
   "codemirror_mode": {
    "name": "ipython",
    "version": 3
   },
   "file_extension": ".py",
   "mimetype": "text/x-python",
   "name": "python",
   "nbconvert_exporter": "python",
   "pygments_lexer": "ipython3",
   "version": "3.12.2"
  }
 },
 "nbformat": 4,
 "nbformat_minor": 5
}
